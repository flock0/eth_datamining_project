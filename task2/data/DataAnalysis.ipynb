{
 "cells": [
  {
   "cell_type": "code",
   "execution_count": 2,
   "metadata": {
    "collapsed": false
   },
   "outputs": [],
   "source": [
    "import numpy as np\n",
    "from sklearn import linear_model\n",
    "from sklearn.model_selection import cross_val_predict\n",
    "from sklearn.feature_selection import SelectKBest\n",
    "from sklearn.preprocessing import PolynomialFeatures\n",
    "from sklearn.decomposition import PCA\n",
    "from sklearn.preprocessing import StandardScaler"
   ]
  },
  {
   "cell_type": "code",
   "execution_count": 4,
   "metadata": {
    "collapsed": false
   },
   "outputs": [],
   "source": [
    "# Load the test file\n",
    "input_matrix = np.genfromtxt('handout_test.txt', delimiter=' ')\n",
    "\n",
    "# Extract the y and x\n",
    "x = input_matrix[:,1:]\n",
    "y = input_matrix[:,0].reshape(20000,1)\n",
    "y_raw = input_matrix[:,0]"
   ]
  },
  {
   "cell_type": "code",
   "execution_count": 5,
   "metadata": {
    "collapsed": false,
    "scrolled": false
   },
   "outputs": [],
   "source": [
    "# Do the transformation\n",
    "scaler = StandardScaler()\n",
    "poly = PolynomialFeatures(degree=2, interaction_only=True)\n",
    "selection = PCA(n_components=38)\n",
    "\n",
    "x_scale = scaler.fit_transform(x,y_raw)\n",
    "x_trans = selection.fit_transform(x_scale,y_raw)\n",
    "x_poly = poly.fit_transform(x_trans,y_raw)\n",
    "x_transform = x_poly"
   ]
  },
  {
   "cell_type": "code",
   "execution_count": 6,
   "metadata": {
    "collapsed": false
   },
   "outputs": [],
   "source": [
    "# Do the regression with a linear regressor\n",
    "regr = linear_model.LinearRegression()\n",
    "predicted = cross_val_predict(regr, x_transform, y_raw, cv=10)"
   ]
  },
  {
   "cell_type": "code",
   "execution_count": 7,
   "metadata": {
    "collapsed": false
   },
   "outputs": [
    {
     "name": "stdout",
     "output_type": "stream",
     "text": [
      "TP: 8077\n",
      "TN: 8107\n",
      "FP: 1914\n",
      "FN: 1902\n",
      "accuracy: 0.8092\n"
     ]
    }
   ],
   "source": [
    "# Evaluate the score\n",
    "\n",
    "FP = 0\n",
    "FN = 0\n",
    "TP = 0\n",
    "TN = 0\n",
    "prediction = np.sign(predicted)\n",
    "for i in range(x_trans.shape[0]):\n",
    "    if prediction[i] == y[i] and y[i] == 1:\n",
    "        TP = TP + 1\n",
    "    elif prediction[i] == y[i] and y[i] == -1:\n",
    "        TN = TN + 1\n",
    "    elif prediction[i] != y[i] and y[i] == 1:\n",
    "        FN = FN + 1\n",
    "    elif prediction[i] != y[i] and y[i] == -1:\n",
    "        FP = FP + 1\n",
    "    else:\n",
    "        print(\"Something went wrong:\", prediction[i], y)\n",
    "    \n",
    "print(\"TP:\", TP)\n",
    "print(\"TN:\", TN)\n",
    "print(\"FP:\", FP)\n",
    "print(\"FN:\", FN)\n",
    "print(\"accuracy:\", (TP + TN)/x_trans.shape[0])"
   ]
  },
  {
   "cell_type": "code",
   "execution_count": 9,
   "metadata": {
    "collapsed": false
   },
   "outputs": [
    {
     "name": "stdout",
     "output_type": "stream",
     "text": [
      "(38, 400)\n"
     ]
    }
   ],
   "source": [
    "np.set_printoptions(threshold=np.inf)\n",
    "print(selection.components_.shape)"
   ]
  },
  {
   "cell_type": "markdown",
   "metadata": {
    "collapsed": true
   },
   "source": [
    "BASELINE\n",
    "=====\n",
    "\n",
    "MSE: 0.620598332416\n",
    "TP: 7931\n",
    "TN: 7870\n",
    "FP: 2151\n",
    "FN: 2048\n",
    "accuracy: 0.79005\n",
    "\n",
    "KBEST 200\n",
    "====="
   ]
  },
  {
   "cell_type": "code",
   "execution_count": null,
   "metadata": {
    "collapsed": true
   },
   "outputs": [],
   "source": []
  }
 ],
 "metadata": {
  "anaconda-cloud": {},
  "kernelspec": {
   "display_name": "Python 3",
   "language": "python",
   "name": "python3"
  },
  "language_info": {
   "codemirror_mode": {
    "name": "ipython",
    "version": 3
   },
   "file_extension": ".py",
   "mimetype": "text/x-python",
   "name": "python",
   "nbconvert_exporter": "python",
   "pygments_lexer": "ipython3",
   "version": "3.5.2"
  }
 },
 "nbformat": 4,
 "nbformat_minor": 0
}

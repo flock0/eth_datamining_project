{
 "cells": [
  {
   "cell_type": "code",
   "execution_count": 2,
   "metadata": {
    "collapsed": false
   },
   "outputs": [],
   "source": [
    "import numpy as np\n",
    "np.set_printoptions(threshold=np.inf)\n",
    "from sklearn import linear_model\n",
    "from sklearn.model_selection import cross_val_predict\n",
    "from sklearn.feature_selection import SelectKBest\n",
    "from sklearn.preprocessing import PolynomialFeatures\n",
    "from sklearn.decomposition import PCA\n",
    "from sklearn.preprocessing import StandardScaler"
   ]
  },
  {
   "cell_type": "code",
   "execution_count": 3,
   "metadata": {
    "collapsed": false
   },
   "outputs": [
    {
     "ename": "NameError",
     "evalue": "name 'input_matrix' is not defined",
     "output_type": "error",
     "traceback": [
      "\u001b[0;31m---------------------------------------------------------------------------\u001b[0m",
      "\u001b[0;31mNameError\u001b[0m                                 Traceback (most recent call last)",
      "\u001b[0;32m<ipython-input-3-87f79620b1f8>\u001b[0m in \u001b[0;36m<module>\u001b[0;34m()\u001b[0m\n\u001b[1;32m      3\u001b[0m \u001b[1;33m\u001b[0m\u001b[0m\n\u001b[1;32m      4\u001b[0m \u001b[1;31m# Extract the y and x\u001b[0m\u001b[1;33m\u001b[0m\u001b[1;33m\u001b[0m\u001b[0m\n\u001b[0;32m----> 5\u001b[0;31m \u001b[0mx\u001b[0m \u001b[1;33m=\u001b[0m \u001b[0minput_matrix\u001b[0m\u001b[1;33m[\u001b[0m\u001b[1;33m:\u001b[0m\u001b[1;33m,\u001b[0m\u001b[1;36m1\u001b[0m\u001b[1;33m:\u001b[0m\u001b[1;33m]\u001b[0m\u001b[1;33m\u001b[0m\u001b[0m\n\u001b[0m\u001b[1;32m      6\u001b[0m \u001b[0my\u001b[0m \u001b[1;33m=\u001b[0m \u001b[0minput_matrix\u001b[0m\u001b[1;33m[\u001b[0m\u001b[1;33m:\u001b[0m\u001b[1;33m,\u001b[0m\u001b[1;36m0\u001b[0m\u001b[1;33m]\u001b[0m\u001b[1;33m.\u001b[0m\u001b[0mreshape\u001b[0m\u001b[1;33m(\u001b[0m\u001b[1;36m20000\u001b[0m\u001b[1;33m,\u001b[0m\u001b[1;36m1\u001b[0m\u001b[1;33m)\u001b[0m\u001b[1;33m\u001b[0m\u001b[0m\n\u001b[1;32m      7\u001b[0m \u001b[0my_raw\u001b[0m \u001b[1;33m=\u001b[0m \u001b[0minput_matrix\u001b[0m\u001b[1;33m[\u001b[0m\u001b[1;33m:\u001b[0m\u001b[1;33m,\u001b[0m\u001b[1;36m0\u001b[0m\u001b[1;33m]\u001b[0m\u001b[1;33m\u001b[0m\u001b[0m\n",
      "\u001b[0;31mNameError\u001b[0m: name 'input_matrix' is not defined"
     ]
    }
   ],
   "source": [
    "# Load the test file\n",
    "input_matrix = np.genfromtxt('handout_test.txt', delimiter=' ')\n",
    "\n",
    "# Extract the y and x\n",
    "x = input_matrix[:,1:]\n",
    "y = input_matrix[:,0].reshape(20000,1)\n",
    "y_raw = input_matrix[:,0]"
   ]
  },
  {
   "cell_type": "code",
   "execution_count": 12,
   "metadata": {
    "collapsed": false,
    "scrolled": false
   },
   "outputs": [],
   "source": [
    "# Do the transformation\n",
    "scaler = StandardScaler()\n",
    "poly = PolynomialFeatures(degree=2, interaction_only=True)\n",
    "selection = PCA(n_components=40)\n",
    "\n",
    "x_scale = scaler.fit_transform(x,y_raw)\n",
    "x_trans = selection.fit_transform(x_scale,y_raw)\n",
    "x_poly = poly.fit_transform(x_trans,y_raw)\n",
    "x_transform = x_poly"
   ]
  },
  {
   "cell_type": "code",
   "execution_count": 13,
   "metadata": {
    "collapsed": false
   },
   "outputs": [],
   "source": [
    "# Do the regression with a linear regressor\n",
    "regr = linear_model.LinearRegression()\n",
    "predicted = cross_val_predict(regr, x_transform, y_raw, cv=10)"
   ]
  },
  {
   "cell_type": "code",
   "execution_count": 14,
   "metadata": {
    "collapsed": false
   },
   "outputs": [
    {
     "name": "stdout",
     "output_type": "stream",
     "text": [
      "TP: 8061\n",
      "TN: 8123\n",
      "FP: 1898\n",
      "FN: 1918\n",
      "accuracy: 0.8092\n"
     ]
    }
   ],
   "source": [
    "# Evaluate the score\n",
    "\n",
    "FP = 0\n",
    "FN = 0\n",
    "TP = 0\n",
    "TN = 0\n",
    "prediction = np.sign(predicted)\n",
    "for i in range(x_trans.shape[0]):\n",
    "    if prediction[i] == y[i] and y[i] == 1:\n",
    "        TP = TP + 1\n",
    "    elif prediction[i] == y[i] and y[i] == -1:\n",
    "        TN = TN + 1\n",
    "    elif prediction[i] != y[i] and y[i] == 1:\n",
    "        FN = FN + 1\n",
    "    elif prediction[i] != y[i] and y[i] == -1:\n",
    "        FP = FP + 1\n",
    "    else:\n",
    "        print(\"Something went wrong:\", prediction[i], y)\n",
    "    \n",
    "print(\"TP:\", TP)\n",
    "print(\"TN:\", TN)\n",
    "print(\"FP:\", FP)\n",
    "print(\"FN:\", FN)\n",
    "print(\"accuracy:\", (TP + TN)/x_trans.shape[0])"
   ]
  },
  {
   "cell_type": "code",
   "execution_count": 15,
   "metadata": {
    "collapsed": false
   },
   "outputs": [
    {
     "name": "stdout",
     "output_type": "stream",
     "text": [
      "[[  4.48931539e-02  -5.14290385e-02  -6.83148316e-03 ...,  -3.16296089e-02\n",
      "   -4.31885720e-02  -4.34217139e-02]\n",
      " [ -3.23814816e-02   1.14721302e-01   5.41060822e-03 ...,   7.10874049e-02\n",
      "    5.80660379e-02  -1.52324666e-02]\n",
      " [  1.21046315e-02   8.27209781e-04   3.00887848e-02 ...,   4.62553299e-02\n",
      "    1.13872206e-02  -9.89166040e-02]\n",
      " ..., \n",
      " [ -3.59676955e-02   5.99128569e-02   4.11109679e-03 ...,   7.21493144e-02\n",
      "    1.51220572e-01  -8.75692949e-02]\n",
      " [  4.78238378e-02  -3.87665216e-03  -7.04504296e-05 ...,   4.59017083e-02\n",
      "    1.54508582e-01   3.09236826e-02]\n",
      " [ -5.36118772e-03   5.83195540e-02   8.25776303e-02 ...,  -5.40361051e-02\n",
      "   -1.75198818e-02  -6.55008842e-02]]\n"
     ]
    }
   ],
   "source": [
    "print(selection.components_)\n"
   ]
  },
  {
   "cell_type": "markdown",
   "metadata": {
    "collapsed": true
   },
   "source": [
    "BASELINE\n",
    "=====\n",
    "\n",
    "MSE: 0.620598332416\n",
    "TP: 7931\n",
    "TN: 7870\n",
    "FP: 2151\n",
    "FN: 2048\n",
    "accuracy: 0.79005\n",
    "\n",
    "KBEST 200\n",
    "====="
   ]
  },
  {
   "cell_type": "code",
   "execution_count": null,
   "metadata": {
    "collapsed": true
   },
   "outputs": [],
   "source": []
  }
 ],
 "metadata": {
  "anaconda-cloud": {},
  "kernelspec": {
   "display_name": "Python 3",
   "language": "python",
   "name": "python3"
  },
  "language_info": {
   "codemirror_mode": {
    "name": "ipython",
    "version": 3
   },
   "file_extension": ".py",
   "mimetype": "text/x-python",
   "name": "python",
   "nbconvert_exporter": "python",
   "pygments_lexer": "ipython3",
   "version": "3.5.2"
  }
 },
 "nbformat": 4,
 "nbformat_minor": 0
}
